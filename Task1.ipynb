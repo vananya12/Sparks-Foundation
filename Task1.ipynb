{
 "cells": [
  {
   "cell_type": "code",
   "execution_count": 1,
   "id": "cd671bb5-44a7-4733-926f-f23f0ff0fd81",
   "metadata": {},
   "outputs": [
    {
     "name": "stdout",
     "output_type": "stream",
     "text": [
      "updated list:  [14, 2, 3, 4, 7]\n"
     ]
    }
   ],
   "source": [
    "#creating list\n",
    "l=[1,2,3,4,5]\n",
    "#adding element\n",
    "l.append(7)\n",
    "#removing element\n",
    "l.remove(5)\n",
    "#modifying element\n",
    "l[0]=14\n",
    "\n",
    "print(\"updated list: \",l)"
   ]
  },
  {
   "cell_type": "code",
   "execution_count": 2,
   "id": "b2e9a139-189a-4831-a3b6-97cf575861b3",
   "metadata": {},
   "outputs": [
    {
     "name": "stdout",
     "output_type": "stream",
     "text": [
      "updated dic:  {'name': 'Ananya', 'city': 'Mumbai', 'Gender': 'Female'}\n"
     ]
    }
   ],
   "source": [
    "#creating dictionary\n",
    "dic={'name':\"Ananya\", 'age':25, 'city':\"Lucknow\"}\n",
    "#adding\n",
    "dic['Gender']='Female'\n",
    "#removing\n",
    "del dic['age']\n",
    "#modifying\n",
    "dic['city']='Mumbai'\n",
    "\n",
    "print(\"updated dic: \",dic)"
   ]
  },
  {
   "cell_type": "code",
   "execution_count": 3,
   "id": "2a513758-e071-4a3c-9cc3-7eb7d89126f4",
   "metadata": {},
   "outputs": [
    {
     "name": "stdout",
     "output_type": "stream",
     "text": [
      "Updated set:  {2, 4, 5, 6, 7, 10}\n"
     ]
    }
   ],
   "source": [
    "#creating set\n",
    "s={1,2,3,4,5,6}\n",
    "#adding\n",
    "s.add(7)\n",
    "#removing\n",
    "s.remove(3)\n",
    "#modifying\n",
    "s.discard(1)\n",
    "s.add(10)\n",
    "\n",
    "print(\"Updated set: \",s)"
   ]
  },
  {
   "cell_type": "code",
   "execution_count": null,
   "id": "3f2fca9f-8005-41b5-b002-3e98a80611ff",
   "metadata": {},
   "outputs": [],
   "source": []
  },
  {
   "cell_type": "code",
   "execution_count": null,
   "id": "c66fe8f9-0b04-4d7c-ab67-598803a29190",
   "metadata": {},
   "outputs": [],
   "source": []
  }
 ],
 "metadata": {
  "kernelspec": {
   "display_name": "Python 3 (ipykernel)",
   "language": "python",
   "name": "python3"
  },
  "language_info": {
   "codemirror_mode": {
    "name": "ipython",
    "version": 3
   },
   "file_extension": ".py",
   "mimetype": "text/x-python",
   "name": "python",
   "nbconvert_exporter": "python",
   "pygments_lexer": "ipython3",
   "version": "3.11.5"
  }
 },
 "nbformat": 4,
 "nbformat_minor": 5
}
